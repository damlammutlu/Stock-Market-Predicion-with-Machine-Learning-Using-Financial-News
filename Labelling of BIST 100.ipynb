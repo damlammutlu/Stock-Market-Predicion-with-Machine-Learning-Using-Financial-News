{
 "cells": [
  {
   "cell_type": "code",
   "execution_count": null,
   "metadata": {},
   "outputs": [],
   "source": [
    "#news dataset loaded\n",
    "import pandas as pd\n",
    "df = pd.read_json('Your File address/News_Vectors_Bist.json', orient='coloumns', encoding='utf-8')\n",
    "#Dataframe to List\n",
    "haber = df.values.tolist()"
   ]
  },
  {
   "cell_type": "code",
   "execution_count": null,
   "metadata": {
    "scrolled": false
   },
   "outputs": [],
   "source": [
    "from csv import reader \n",
    "# read csv file as a list of lists\n",
    "with open('Your File address/bistdata.csv', 'r') as read_obj:\n",
    "    # pass the file object to reader() to get the reader object\n",
    "    csv_reader = reader(read_obj)\n",
    "    # Pass reader object to list() to get a list of lists\n",
    "    bist = list(csv_reader)"
   ]
  },
  {
   "cell_type": "code",
   "execution_count": null,
   "metadata": {},
   "outputs": [],
   "source": [
    "def listToString(a):  \n",
    "    \n",
    "    # initialize an empty string \n",
    "    str1 = \"\" \n",
    "    \n",
    "    # return string   \n",
    "    return (str1.join(a))"
   ]
  },
  {
   "cell_type": "code",
   "execution_count": null,
   "metadata": {
    "scrolled": true
   },
   "outputs": [],
   "source": [
    "uzunluk=len(bist)"
   ]
  },
  {
   "cell_type": "code",
   "execution_count": null,
   "metadata": {},
   "outputs": [],
   "source": [
    "#convert day, month, year numbers for comparison\n",
    "sayac=0\n",
    "d_bist=[]\n",
    "y_bist=[]\n",
    "s_bist=[]\n",
    "d=\"\"\n",
    "m=\"\"\n",
    "y=\"\"\n",
    "t=\"\"\n",
    "for sayac in range(sayac,uzunluk):\n",
    "    d_bist=listToString(bist[sayac][0])\n",
    "    d_bist=d_bist.replace(\".\",\"-\")\n",
    "    d=d_bist[0]+d_bist[1]\n",
    "    m=d_bist[3]+d_bist[4]\n",
    "    y=d_bist[6]+d_bist[7]+d_bist[8]+d_bist[9]\n",
    "    t=y+\"-\"+m+\"-\"+d\n",
    "    y_bist.append(t)\n",
    "    s_bist.append(t)\n",
    "sayac=0\n",
    "t_sayac=uzunluk-1\n",
    "while sayac<uzunluk:\n",
    "    s_bist[sayac]=y_bist[t_sayac]\n",
    "    sayac+=1\n",
    "    t_sayac-=1"
   ]
  },
  {
   "cell_type": "code",
   "execution_count": null,
   "metadata": {},
   "outputs": [],
   "source": [
    "#Labeling of BIST 100 datas\n",
    "h_uzunluk=len(haber)\n",
    "h_uzunluk\n",
    "sayac1=0\n",
    "sayac2=0\n",
    "bistveri=[]\n",
    "m_veri=0\n",
    "s_veri=0\n",
    "t_sayac1=uzunluk-1\n",
    "while sayac2<h_uzunluk and sayac1<uzunluk:\n",
    "    if s_bist[sayac1]==haber[sayac2][0]:\n",
    "        m_veri=bist[t_sayac1][1]\n",
    "        s_veri=float(m_veri)\n",
    "        if s_veri>0:\n",
    "            bistveri.append(3)\n",
    "        elif s_veri<0:\n",
    "            bistveri.append(1)\n",
    "        else:\n",
    "            bistveri.append(2)\n",
    "        if(sayac1==uzunluk):\n",
    "            break\n",
    "        print(sayac1)\n",
    "        print(sayac2)\n",
    "        sayac1+=1\n",
    "        sayac2+=1\n",
    "        t_sayac1-=1\n",
    "    elif s_bist[sayac1]!=haber[sayac2][0]:\n",
    "        i=0\n",
    "        uzi=0\n",
    "        d=0\n",
    "        uzi=len(bistveri)\n",
    "        while i<h_uzunluk:\n",
    "            if s_bist[sayac1]==haber[i][0]:\n",
    "                d=25\n",
    "            i+=1\n",
    "        if d==25:\n",
    "            bistveri.append(2)\n",
    "            sayac2+=1\n",
    "        elif d!=25:\n",
    "            sayac1+=1\n",
    "            t_sayac1-=1       \n",
    "    "
   ]
  },
  {
   "cell_type": "code",
   "execution_count": null,
   "metadata": {},
   "outputs": [],
   "source": [
    "#saving of BIST 100 datas to JSON file\n",
    "df = pd.DataFrame(list(bistveri), \n",
    "               columns =['bist']) \n",
    "df\n",
    "df.to_json(r'Your File address/etiketli_bistverisi.json')"
   ]
  },
  {
   "cell_type": "code",
   "execution_count": null,
   "metadata": {},
   "outputs": [],
   "source": []
  }
 ],
 "metadata": {
  "kernelspec": {
   "display_name": "Python 3",
   "language": "python",
   "name": "python3"
  },
  "language_info": {
   "codemirror_mode": {
    "name": "ipython",
    "version": 3
   },
   "file_extension": ".py",
   "mimetype": "text/x-python",
   "name": "python",
   "nbconvert_exporter": "python",
   "pygments_lexer": "ipython3",
   "version": "3.7.6"
  }
 },
 "nbformat": 4,
 "nbformat_minor": 2
}
