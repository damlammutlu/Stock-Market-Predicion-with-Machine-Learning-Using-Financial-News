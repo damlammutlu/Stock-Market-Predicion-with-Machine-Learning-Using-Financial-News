{
 "cells": [
  {
   "cell_type": "code",
   "execution_count": null,
   "metadata": {},
   "outputs": [],
   "source": [
    "import pandas as pd\n",
    "from sklearn import metrics\n",
    "from sklearn import svm\n",
    "from sklearn.naive_bayes import GaussianNB\n",
    "from sklearn.neural_network import MLPClassifier\n",
    "from sklearn.model_selection import train_test_split\n",
    "from sklearn.metrics import f1_score, precision_score, recall_score\n",
    "from sklearn.metrics import classification_report,confusion_matrix"
   ]
  },
  {
   "cell_type": "code",
   "execution_count": null,
   "metadata": {},
   "outputs": [],
   "source": [
    "#JSON to dataframe and Dataframe to List\n",
    "df = pd.read_json('Your File address/tfidf_vector1500.json', encoding='utf-8')\n",
    "veri = df.values.tolist()\n",
    "df1 = pd.read_json('Your File address/bistverisiyeni.json', encoding='utf-8')\n",
    "veri1 = df1.values.tolist()"
   ]
  },
  {
   "cell_type": "code",
   "execution_count": null,
   "metadata": {},
   "outputs": [],
   "source": [
    "#transfer vector and bist datas to vector and bist lists from datasets\n",
    "vektor=[]\n",
    "bist=[]\n",
    "i=0\n",
    "j=0\n",
    "hedef=len(veri1)\n",
    "while i<hedef:\n",
    "    if(veri1[j][0]!=2):\n",
    "        vektor.append(veri[i][1])\n",
    "        if j>=hedef-0:\n",
    "            j=hedef-1\n",
    "        bist.append(veri1[j][0])\n",
    "    \n",
    "    \n",
    "    i+=1\n",
    "    j+=1"
   ]
  },
  {
   "cell_type": "code",
   "execution_count": null,
   "metadata": {},
   "outputs": [],
   "source": [
    "X_train, X_test, y_train, y_test = train_test_split(\n",
    "vektor, bist, test_size=0.2, random_state=1)"
   ]
  },
  {
   "cell_type": "code",
   "execution_count": null,
   "metadata": {},
   "outputs": [],
   "source": [
    "#Create a Naive Bayes Classifier\n",
    "nb=GaussianNB()\n",
    "#Train the model using the training sets\n",
    "nb.fit(X_train,y_train)\n",
    "#Predict the response for test dataset\n",
    "y_pred=nb.predict(X_test)\n",
    "#Predict the response for train dataset\n",
    "predict_train = nb.predict(X_train)\n",
    "print(\"accuracy: \", nb.score(y_pred.reshape(-1,1),y_test))\n",
    "print(\"test f score: \",f1_score(y_test, y_pred, average='weighted'))\n",
    "print(\"train f score: \",f1_score(y_train, predict_train, average='weighted'))"
   ]
  },
  {
   "cell_type": "code",
   "execution_count": null,
   "metadata": {},
   "outputs": [],
   "source": [
    "#Create a svm Classifier\n",
    "clf = svm.SVC(kernel='linear') # Linear Kernel\n",
    "#Train the model using the training sets\n",
    "clf.fit(X_train, y_train)\n",
    "#Predict the response for test dataset\n",
    "y_pred = clf.predict(X_test)\n",
    "#Predict the response for train dataset\n",
    "predict_train=clf.predict(X_train)\n",
    "print(confusion_matrix(y_train,predict_train))\n",
    "print(classification_report(y_train,predict_train))\n",
    "print(\"test Accuracy:\",metrics.accuracy_score(y_test, y_pred))\n",
    "print(\"test f score: \",f1_score(y_test, y_pred, average='weighted',zero_division=1))\n",
    "print(\"train f score: \",f1_score(y_train, predict_train, average='weighted'))\n",
    "print(precision_score(y_test, y_pred, average=\"macro\"))\n",
    "print(recall_score(y_test, y_pred, average=\"macro\"))"
   ]
  },
  {
   "cell_type": "code",
   "execution_count": null,
   "metadata": {},
   "outputs": [],
   "source": [
    "#Create a mlp Classifier\n",
    "mlp = MLPClassifier(hidden_layer_sizes=(100,20,10), activation='relu', solver='adam', max_iter=5000)\n",
    "#Train the model using the training sets\n",
    "mlp.fit(X_train,y_train)\n",
    "#Predict the response for train dataset\n",
    "predict_train = mlp.predict(X_train)\n",
    "#Predict the response for test dataset\n",
    "predict_test = mlp.predict(X_test)\n",
    "f1_score(y_train, predict_train, average='weighted')\n",
    "print(confusion_matrix(y_train,predict_train))\n",
    "print(classification_report(y_train,predict_train))\n",
    "print(\"test Accuracy:\",metrics.accuracy_score(y_test, predict_test))\n",
    "print(\"test f score: \",f1_score(y_test, predict_test, average='weighted'))\n",
    "print(\"\\ntrain Accuracy:\",metrics.accuracy_score(y_train, predict_train))\n",
    "print(\"train f score: \",f1_score(y_train, predict_train, average='weighted'))"
   ]
  },
  {
   "cell_type": "code",
   "execution_count": null,
   "metadata": {},
   "outputs": [],
   "source": [
    "#save last models\n",
    "import pickle\n",
    "filename = 'nb_w2v.sav'\n",
    "pickle.dump(clf3, open(filename, 'wb'))\n",
    "filename = 'svm_w2v.sav'\n",
    "pickle.dump(clf32, open(filename, 'wb'))\n",
    "filename = 'mlp_w2v.sav'\n",
    "pickle.dump(clf33, open(filename, 'wb'))"
   ]
  },
  {
   "cell_type": "code",
   "execution_count": null,
   "metadata": {},
   "outputs": [],
   "source": [
    "#load last models\n",
    "import pickle\n",
    "filename1 = 'nb_w2v.sav'\n",
    "filename2 = 'svm_w2v.sav'\n",
    "filename3 = 'mlp_w2v.sav'\n",
    "clf3 = pickle.load(open(filename1, 'rb'))\n",
    "clf32 = pickle.load(open(filename2, 'rb'))\n",
    "clf33 = pickle.load(open(filename3, 'rb'))\n",
    "result = clf3.score(X_test1, y_test1)\n",
    "print(result)"
   ]
  },
  {
   "cell_type": "code",
   "execution_count": null,
   "metadata": {},
   "outputs": [],
   "source": []
  }
 ],
 "metadata": {
  "kernelspec": {
   "display_name": "Python 3",
   "language": "python",
   "name": "python3"
  },
  "language_info": {
   "codemirror_mode": {
    "name": "ipython",
    "version": 3
   },
   "file_extension": ".py",
   "mimetype": "text/x-python",
   "name": "python",
   "nbconvert_exporter": "python",
   "pygments_lexer": "ipython3",
   "version": "3.7.6"
  }
 },
 "nbformat": 4,
 "nbformat_minor": 4
}
